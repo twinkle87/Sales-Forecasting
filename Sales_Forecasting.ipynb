{
  "cells": [
    {
      "cell_type": "code",
      "execution_count": 1,
      "metadata": {
        "id": "5tp_JjsXxnBJ"
      },
      "outputs": [],
      "source": [
        "import pandas as pd\n",
        "import numpy as np\n",
        "import warnings\n",
        "from matplotlib import pyplot as plt\n",
        "import seaborn as sns\n",
        "from sklearn.impute import SimpleImputer\n",
        "from sklearn.model_selection import train_test_split\n",
        "from sklearn.ensemble import RandomForestRegressor\n",
        "from sklearn.tree import DecisionTreeClassifier\n",
        "from sklearn.metrics import mean_squared_error\n",
        "import warnings\n",
        "warnings.filterwarnings('ignore')\n",
        "pd.set_option(\"display.max_columns\", 120)\n",
        "pd.set_option(\"display.max_rows\", 120)"
      ]
    },
    {
      "cell_type": "code",
      "source": [
        "features = pd.read_csv('/content/features.csv')\n",
        "train = pd.read_csv('/content/train(1).csv')\n",
        "stores = pd.read_csv('/content/stores.csv')\n",
        "test = pd.read_csv('/content/test(1).csv')"
      ],
      "metadata": {
        "id": "c3OKk3OUAOgV"
      },
      "execution_count": 5,
      "outputs": []
    },
    {
      "cell_type": "code",
      "source": [
        "print(features.head())\n",
        "print(\"------------------------------------------------------------\\n\")\n",
        "print(stores.head())\n",
        "print(\"------------------------------------------------------------\\n\")\n",
        "print(train.head())\n",
        "print(\"------------------------------------------------------------\\n\")\n",
        "print(test.head())\n",
        "print(\"------------------------------------------------------------\\n\")"
      ],
      "metadata": {
        "colab": {
          "base_uri": "https://localhost:8080/"
        },
        "id": "aqHNQBE3Asj5",
        "outputId": "22c7ebe4-4da6-44a2-f5ad-460fb19a2722"
      },
      "execution_count": 7,
      "outputs": [
        {
          "output_type": "stream",
          "name": "stdout",
          "text": [
            "   Store        Date  Temperature  Fuel_Price  MarkDown1  MarkDown2  \\\n",
            "0      1  2010-02-05        42.31       2.572        NaN        NaN   \n",
            "1      1  2010-02-12        38.51       2.548        NaN        NaN   \n",
            "2      1  2010-02-19        39.93       2.514        NaN        NaN   \n",
            "3      1  2010-02-26        46.63       2.561        NaN        NaN   \n",
            "4      1  2010-03-05        46.50       2.625        NaN        NaN   \n",
            "\n",
            "   MarkDown3  MarkDown4  MarkDown5         CPI  Unemployment  IsHoliday  \n",
            "0        NaN        NaN        NaN  211.096358         8.106      False  \n",
            "1        NaN        NaN        NaN  211.242170         8.106       True  \n",
            "2        NaN        NaN        NaN  211.289143         8.106      False  \n",
            "3        NaN        NaN        NaN  211.319643         8.106      False  \n",
            "4        NaN        NaN        NaN  211.350143         8.106      False  \n",
            "------------------------------------------------------------\n",
            "\n",
            "   Store Type    Size\n",
            "0      1    A  151315\n",
            "1      2    A  202307\n",
            "2      3    B   37392\n",
            "3      4    A  205863\n",
            "4      5    B   34875\n",
            "------------------------------------------------------------\n",
            "\n",
            "   Store  Dept        Date  Weekly_Sales  IsHoliday\n",
            "0      1     1  2010-02-05      24924.50      False\n",
            "1      1     1  2010-02-12      46039.49       True\n",
            "2      1     1  2010-02-19      41595.55      False\n",
            "3      1     1  2010-02-26      19403.54      False\n",
            "4      1     1  2010-03-05      21827.90      False\n",
            "------------------------------------------------------------\n",
            "\n",
            "   Store  Dept        Date  IsHoliday\n",
            "0      1     1  2012-11-02      False\n",
            "1      1     1  2012-11-09      False\n",
            "2      1     1  2012-11-16      False\n",
            "3      1     1  2012-11-23       True\n",
            "4      1     1  2012-11-30      False\n",
            "------------------------------------------------------------\n",
            "\n"
          ]
        }
      ]
    },
    {
      "cell_type": "code",
      "source": [
        "features.shape, train.shape, stores.shape, test.shape"
      ],
      "metadata": {
        "colab": {
          "base_uri": "https://localhost:8080/"
        },
        "id": "UB5QXB4WBCDH",
        "outputId": "f0ff8d85-ccc1-41cc-83bc-cad7c820828c"
      },
      "execution_count": 8,
      "outputs": [
        {
          "output_type": "execute_result",
          "data": {
            "text/plain": [
              "((8190, 12), (421570, 5), (45, 3), (115064, 4))"
            ]
          },
          "metadata": {},
          "execution_count": 8
        }
      ]
    },
    {
      "cell_type": "code",
      "source": [
        "print(features.dtypes)\n",
        "print(\"------------------------------------------------------------\\n\")\n",
        "print(train.dtypes)\n",
        "print(\"------------------------------------------------------------\\n\")\n",
        "print(stores.dtypes)\n",
        "print(\"------------------------------------------------------------\\n\")\n",
        "print(test.dtypes)"
      ],
      "metadata": {
        "colab": {
          "base_uri": "https://localhost:8080/"
        },
        "id": "KV1WvK6nB1My",
        "outputId": "b34fc2a4-2874-47dc-c50b-47e01686ebff"
      },
      "execution_count": 9,
      "outputs": [
        {
          "output_type": "stream",
          "name": "stdout",
          "text": [
            "Store             int64\n",
            "Date             object\n",
            "Temperature     float64\n",
            "Fuel_Price      float64\n",
            "MarkDown1       float64\n",
            "MarkDown2       float64\n",
            "MarkDown3       float64\n",
            "MarkDown4       float64\n",
            "MarkDown5       float64\n",
            "CPI             float64\n",
            "Unemployment    float64\n",
            "IsHoliday          bool\n",
            "dtype: object\n",
            "------------------------------------------------------------\n",
            "\n",
            "Store             int64\n",
            "Dept              int64\n",
            "Date             object\n",
            "Weekly_Sales    float64\n",
            "IsHoliday          bool\n",
            "dtype: object\n",
            "------------------------------------------------------------\n",
            "\n",
            "Store     int64\n",
            "Type     object\n",
            "Size      int64\n",
            "dtype: object\n",
            "------------------------------------------------------------\n",
            "\n",
            "Store         int64\n",
            "Dept          int64\n",
            "Date         object\n",
            "IsHoliday      bool\n",
            "dtype: object\n"
          ]
        }
      ]
    },
    {
      "cell_type": "code",
      "source": [
        "feature_store = features.merge(stores, how='inner', on = \"Store\")"
      ],
      "metadata": {
        "id": "62OiWc29CAjW"
      },
      "execution_count": 10,
      "outputs": []
    },
    {
      "cell_type": "code",
      "source": [
        "train = train.merge(feature_store, how='inner', on=['Store','Date','IsHoliday'])"
      ],
      "metadata": {
        "id": "IiHt4emYCKRj"
      },
      "execution_count": 11,
      "outputs": []
    },
    {
      "cell_type": "code",
      "source": [
        "test = test.merge(feature_store, how='inner', on=['Store','Date','IsHoliday'])"
      ],
      "metadata": {
        "id": "XsBheOrZCM2c"
      },
      "execution_count": 12,
      "outputs": []
    },
    {
      "cell_type": "code",
      "source": [
        "train = train.copy()\n",
        "test = test.copy()\n",
        "\n",
        "train['Date'] = pd.to_datetime(train['Date'])\n",
        "train['Year'] = pd.to_datetime(train['Date']).dt.year\n",
        "train['Month'] = pd.to_datetime(train['Date']).dt.month\n",
        "train['Week'] = pd.to_datetime(train['Date']).dt.week\n",
        "train['Day'] = pd.to_datetime(train['Date']).dt.day\n",
        "train.replace({'A': 1, 'B': 2,'C':3},inplace=True)\n",
        "\n",
        "test['Date'] = pd.to_datetime(test['Date'])\n",
        "test['Year'] = pd.to_datetime(test['Date']).dt.year\n",
        "test['Month'] = pd.to_datetime(test['Date']).dt.month\n",
        "test['Week'] = pd.to_datetime(test['Date']).dt.week\n",
        "test['Day'] = pd.to_datetime(test['Date']).dt.day\n",
        "test.replace({'A': 1, 'B': 2,'C':3},inplace=True)"
      ],
      "metadata": {
        "id": "HaR5W_7jCWVj"
      },
      "execution_count": 13,
      "outputs": []
    },
    {
      "cell_type": "code",
      "source": [
        "print(train.head())\n",
        "print(\"------------------------------------------------------------\\n\")\n",
        "print(test.head())"
      ],
      "metadata": {
        "colab": {
          "base_uri": "https://localhost:8080/"
        },
        "id": "oHypstVjCgzI",
        "outputId": "24232660-3724-411e-d523-adee2c9ae121"
      },
      "execution_count": 14,
      "outputs": [
        {
          "output_type": "stream",
          "name": "stdout",
          "text": [
            "   Store  Dept       Date  Weekly_Sales  IsHoliday  Temperature  Fuel_Price  \\\n",
            "0      1     1 2010-02-05      24924.50      False        42.31       2.572   \n",
            "1      1     2 2010-02-05      50605.27      False        42.31       2.572   \n",
            "2      1     3 2010-02-05      13740.12      False        42.31       2.572   \n",
            "3      1     4 2010-02-05      39954.04      False        42.31       2.572   \n",
            "4      1     5 2010-02-05      32229.38      False        42.31       2.572   \n",
            "\n",
            "   MarkDown1  MarkDown2  MarkDown3  MarkDown4  MarkDown5         CPI  \\\n",
            "0        NaN        NaN        NaN        NaN        NaN  211.096358   \n",
            "1        NaN        NaN        NaN        NaN        NaN  211.096358   \n",
            "2        NaN        NaN        NaN        NaN        NaN  211.096358   \n",
            "3        NaN        NaN        NaN        NaN        NaN  211.096358   \n",
            "4        NaN        NaN        NaN        NaN        NaN  211.096358   \n",
            "\n",
            "   Unemployment  Type    Size  Year  Month  Week  Day  \n",
            "0         8.106     1  151315  2010      2     5    5  \n",
            "1         8.106     1  151315  2010      2     5    5  \n",
            "2         8.106     1  151315  2010      2     5    5  \n",
            "3         8.106     1  151315  2010      2     5    5  \n",
            "4         8.106     1  151315  2010      2     5    5  \n",
            "------------------------------------------------------------\n",
            "\n",
            "   Store  Dept       Date  IsHoliday  Temperature  Fuel_Price  MarkDown1  \\\n",
            "0      1     1 2012-11-02      False        55.32       3.386    6766.44   \n",
            "1      1     2 2012-11-02      False        55.32       3.386    6766.44   \n",
            "2      1     3 2012-11-02      False        55.32       3.386    6766.44   \n",
            "3      1     4 2012-11-02      False        55.32       3.386    6766.44   \n",
            "4      1     5 2012-11-02      False        55.32       3.386    6766.44   \n",
            "\n",
            "   MarkDown2  MarkDown3  MarkDown4  MarkDown5         CPI  Unemployment  Type  \\\n",
            "0     5147.7      50.82     3639.9    2737.42  223.462779         6.573     1   \n",
            "1     5147.7      50.82     3639.9    2737.42  223.462779         6.573     1   \n",
            "2     5147.7      50.82     3639.9    2737.42  223.462779         6.573     1   \n",
            "3     5147.7      50.82     3639.9    2737.42  223.462779         6.573     1   \n",
            "4     5147.7      50.82     3639.9    2737.42  223.462779         6.573     1   \n",
            "\n",
            "     Size  Year  Month  Week  Day  \n",
            "0  151315  2012     11    44    2  \n",
            "1  151315  2012     11    44    2  \n",
            "2  151315  2012     11    44    2  \n",
            "3  151315  2012     11    44    2  \n",
            "4  151315  2012     11    44    2  \n"
          ]
        }
      ]
    },
    {
      "cell_type": "code",
      "source": [
        "weekly_sales = train.groupby(['Year','Week']).agg({'Weekly_Sales': ['mean', 'median']})\n",
        "weekly_sales2010 = train.loc[train['Year']==2010].groupby(['Week']).agg({'Weekly_Sales': ['mean', 'median']})\n",
        "weekly_sales2011 = train.loc[train['Year']==2011].groupby(['Week']).agg({'Weekly_Sales': ['mean', 'median']})\n",
        "weekly_sales2012 = train.loc[train['Year']==2012].groupby(['Week']).agg({'Weekly_Sales': ['mean', 'median']})\n",
        "plt.figure(figsize=(20, 7))\n",
        "sns.lineplot(weekly_sales2010['Weekly_Sales']['mean'].index, weekly_sales2010['Weekly_Sales']['mean'].values)\n",
        "sns.lineplot(weekly_sales2011['Weekly_Sales']['mean'].index, weekly_sales2011['Weekly_Sales']['mean'].values)\n",
        "sns.lineplot(weekly_sales2012['Weekly_Sales']['mean'].index, weekly_sales2012['Weekly_Sales']['mean'].values)\n",
        "\n",
        "plt.grid()\n",
        "plt.xticks(np.arange(1, 53, step=1))\n",
        "plt.legend(['2010', '2011', '2012'])\n",
        "plt.show()"
      ],
      "metadata": {
        "colab": {
          "base_uri": "https://localhost:8080/",
          "height": 249
        },
        "id": "I2xPAqxcCw3R",
        "outputId": "3dc8ec02-b2ad-401a-e517-409450a68776"
      },
      "execution_count": 15,
      "outputs": [
        {
          "output_type": "display_data",
          "data": {
            "text/plain": [
              "<Figure size 1440x504 with 1 Axes>"
            ],
            "image/png": "[encoded data removed]"
          },
          "metadata": {
            "needs_background": "light"
          }
        }
      ]
    },
    {
      "cell_type": "code",
      "source": [
        "Y_train = train['Weekly_Sales']"
      ],
      "metadata": {
        "id": "Gs_TwpGeDEmG"
      },
      "execution_count": 16,
      "outputs": []
    },
    {
      "cell_type": "code",
      "source": [
        "targets = Y_train.copy()"
      ],
      "metadata": {
        "id": "uyqpa4sQDIrR"
      },
      "execution_count": 17,
      "outputs": []
    },
    {
      "cell_type": "code",
      "source": [
        "train= train.drop(['Weekly_Sales'],axis=1)"
      ],
      "metadata": {
        "id": "5BHbX0KkDK8u"
      },
      "execution_count": 18,
      "outputs": []
    },
    {
      "cell_type": "code",
      "source": [
        "numeric_cols = train.select_dtypes(include=np.number).columns.tolist()\n",
        "categorical_cols = train.select_dtypes('object').columns.tolist()"
      ],
      "metadata": {
        "id": "U9_KmX5-DONa"
      },
      "execution_count": 20,
      "outputs": []
    },
    {
      "cell_type": "code",
      "source": [
        "print(numeric_cols)\n",
        "print(\"------------------------------------------------------------\\n\")\n",
        "print(categorical_cols)"
      ],
      "metadata": {
        "colab": {
          "base_uri": "https://localhost:8080/"
        },
        "id": "-5CnKv-aEejG",
        "outputId": "7d79b4ab-8547-46b7-e27f-2ff819d50bd6"
      },
      "execution_count": 21,
      "outputs": [
        {
          "output_type": "stream",
          "name": "stdout",
          "text": [
            "['Store', 'Dept', 'Temperature', 'Fuel_Price', 'MarkDown1', 'MarkDown2', 'MarkDown3', 'MarkDown4', 'MarkDown5', 'CPI', 'Unemployment', 'Type', 'Size', 'Year', 'Month', 'Week', 'Day']\n",
            "------------------------------------------------------------\n",
            "\n",
            "[]\n"
          ]
        }
      ]
    },
    {
      "cell_type": "code",
      "source": [
        "train.isnull().sum()"
      ],
      "metadata": {
        "colab": {
          "base_uri": "https://localhost:8080/"
        },
        "id": "fkK13VkPEk5I",
        "outputId": "9a6d9c82-273c-430d-baaf-94501f6df729"
      },
      "execution_count": 22,
      "outputs": [
        {
          "output_type": "execute_result",
          "data": {
            "text/plain": [
              "Store                0\n",
              "Dept                 0\n",
              "Date                 0\n",
              "IsHoliday            0\n",
              "Temperature          0\n",
              "Fuel_Price           0\n",
              "MarkDown1       270889\n",
              "MarkDown2       310322\n",
              "MarkDown3       284479\n",
              "MarkDown4       286603\n",
              "MarkDown5       270138\n",
              "CPI                  0\n",
              "Unemployment         0\n",
              "Type                 0\n",
              "Size                 0\n",
              "Year                 0\n",
              "Month                0\n",
              "Week                 0\n",
              "Day                  0\n",
              "dtype: int64"
            ]
          },
          "metadata": {},
          "execution_count": 22
        }
      ]
    },
    {
      "cell_type": "code",
      "source": [
        "test.isnull().sum()"
      ],
      "metadata": {
        "colab": {
          "base_uri": "https://localhost:8080/"
        },
        "id": "Qe1EW9I3EqLm",
        "outputId": "c825fd64-287a-4812-a9a3-a0ee7548ccff"
      },
      "execution_count": 23,
      "outputs": [
        {
          "output_type": "execute_result",
          "data": {
            "text/plain": [
              "Store               0\n",
              "Dept                0\n",
              "Date                0\n",
              "IsHoliday           0\n",
              "Temperature         0\n",
              "Fuel_Price          0\n",
              "MarkDown1         149\n",
              "MarkDown2       28627\n",
              "MarkDown3        9829\n",
              "MarkDown4       12888\n",
              "MarkDown5           0\n",
              "CPI             38162\n",
              "Unemployment    38162\n",
              "Type                0\n",
              "Size                0\n",
              "Year                0\n",
              "Month               0\n",
              "Week                0\n",
              "Day                 0\n",
              "dtype: int64"
            ]
          },
          "metadata": {},
          "execution_count": 23
        }
      ]
    },
    {
      "cell_type": "code",
      "source": [
        "imputer = SimpleImputer(missing_values= np.NaN, strategy='mean')"
      ],
      "metadata": {
        "id": "4SEhAufWE0K4"
      },
      "execution_count": 24,
      "outputs": []
    },
    {
      "cell_type": "code",
      "source": [
        "imputer.fit(train[numeric_cols])"
      ],
      "metadata": {
        "colab": {
          "base_uri": "https://localhost:8080/"
        },
        "id": "wmFWgMBqE-XI",
        "outputId": "7bb27544-513b-4561-df42-2ea8529bfc5b"
      },
      "execution_count": 25,
      "outputs": [
        {
          "output_type": "execute_result",
          "data": {
            "text/plain": [
              "SimpleImputer()"
            ]
          },
          "metadata": {},
          "execution_count": 25
        }
      ]
    },
    {
      "cell_type": "code",
      "source": [
        "train[numeric_cols] =imputer.transform(train[numeric_cols])"
      ],
      "metadata": {
        "id": "QON0LWpRFI5H"
      },
      "execution_count": 26,
      "outputs": []
    },
    {
      "cell_type": "code",
      "source": [
        "train.isnull().sum()"
      ],
      "metadata": {
        "colab": {
          "base_uri": "https://localhost:8080/"
        },
        "id": "Nd8sR-kgFRFg",
        "outputId": "c13decdf-ef7d-42c3-a9a2-ff887d4efe85"
      },
      "execution_count": 27,
      "outputs": [
        {
          "output_type": "execute_result",
          "data": {
            "text/plain": [
              "Store           0\n",
              "Dept            0\n",
              "Date            0\n",
              "IsHoliday       0\n",
              "Temperature     0\n",
              "Fuel_Price      0\n",
              "MarkDown1       0\n",
              "MarkDown2       0\n",
              "MarkDown3       0\n",
              "MarkDown4       0\n",
              "MarkDown5       0\n",
              "CPI             0\n",
              "Unemployment    0\n",
              "Type            0\n",
              "Size            0\n",
              "Year            0\n",
              "Month           0\n",
              "Week            0\n",
              "Day             0\n",
              "dtype: int64"
            ]
          },
          "metadata": {},
          "execution_count": 27
        }
      ]
    },
    {
      "cell_type": "code",
      "source": [
        "from sklearn.preprocessing import MinMaxScaler"
      ],
      "metadata": {
        "id": "23M0p-FgFaKk"
      },
      "execution_count": 28,
      "outputs": []
    },
    {
      "cell_type": "code",
      "source": [
        "scaler = MinMaxScaler()"
      ],
      "metadata": {
        "id": "Gm0mSI2-Fg5S"
      },
      "execution_count": 29,
      "outputs": []
    },
    {
      "cell_type": "code",
      "source": [
        "scaler.fit(train[numeric_cols])"
      ],
      "metadata": {
        "colab": {
          "base_uri": "https://localhost:8080/"
        },
        "id": "v2yQMSrPFo4F",
        "outputId": "155407be-cef5-4e46-8af9-dd7ddb799d42"
      },
      "execution_count": 30,
      "outputs": [
        {
          "output_type": "execute_result",
          "data": {
            "text/plain": [
              "MinMaxScaler()"
            ]
          },
          "metadata": {},
          "execution_count": 30
        }
      ]
    },
    {
      "cell_type": "code",
      "source": [
        "train[numeric_cols] = scaler.transform(train[numeric_cols])"
      ],
      "metadata": {
        "id": "9xsPbo3zFzV6"
      },
      "execution_count": 32,
      "outputs": []
    },
    {
      "cell_type": "code",
      "source": [
        "train[numeric_cols].describe().loc[['min', 'max']]"
      ],
      "metadata": {
        "colab": {
          "base_uri": "https://localhost:8080/",
          "height": 176
        },
        "id": "jft9mC1jF7Mm",
        "outputId": "dfe65e76-7f0b-4c36-a260-3b76e9e3dc00"
      },
      "execution_count": 33,
      "outputs": [
        {
          "output_type": "execute_result",
          "data": {
            "text/plain": [
              "     Store  Dept  Temperature  Fuel_Price  MarkDown1  MarkDown2  MarkDown3  \\\n",
              "min    0.0   0.0          0.0         0.0        0.0        0.0        0.0   \n",
              "max    1.0   1.0          1.0         1.0        1.0        1.0        1.0   \n",
              "\n",
              "     MarkDown4  MarkDown5  CPI  Unemployment  Type  Size  Year  Month  Week  \\\n",
              "min        0.0        0.0  0.0           0.0   0.0   0.0   0.0    0.0   0.0   \n",
              "max        1.0        1.0  1.0           1.0   1.0   1.0   1.0    1.0   1.0   \n",
              "\n",
              "     Day  \n",
              "min  0.0  \n",
              "max  1.0  "
            ],
            "text/html": [
              "\n",
              "  <div id=\"df-5e0da037-e6a8-4d4f-883d-4ced6acf8376\">\n",
              "    <div class=\"colab-df-container\">\n",
              "      <div>\n",
              "<style scoped>\n",
              "    .dataframe tbody tr th:only-of-type {\n",
              "        vertical-align: middle;\n",
              "    }\n",
              "\n",
              "    .dataframe tbody tr th {\n",
              "        vertical-align: top;\n",
              "    }\n",
              "\n",
              "    .dataframe thead th {\n",
              "        text-align: right;\n",
              "    }\n",
              "</style>\n",
              "<table border=\"1\" class=\"dataframe\">\n",
              "  <thead>\n",
              "    <tr style=\"text-align: right;\">\n",
              "      <th></th>\n",
              "      <th>Store</th>\n",
              "      <th>Dept</th>\n",
              "      <th>Temperature</th>\n",
              "      <th>Fuel_Price</th>\n",
              "      <th>MarkDown1</th>\n",
              "      <th>MarkDown2</th>\n",
              "      <th>MarkDown3</th>\n",
              "      <th>MarkDown4</th>\n",
              "      <th>MarkDown5</th>\n",
              "      <th>CPI</th>\n",
              "      <th>Unemployment</th>\n",
              "      <th>Type</th>\n",
              "      <th>Size</th>\n",
              "      <th>Year</th>\n",
              "      <th>Month</th>\n",
              "      <th>Week</th>\n",
              "      <th>Day</th>\n",
              "    </tr>\n",
              "  </thead>\n",
              "  <tbody>\n",
              "    <tr>\n",
              "      <th>min</th>\n",
              "      <td>0.0</td>\n",
              "      <td>0.0</td>\n",
              "      <td>0.0</td>\n",
              "      <td>0.0</td>\n",
              "      <td>0.0</td>\n",
              "      <td>0.0</td>\n",
              "      <td>0.0</td>\n",
              "      <td>0.0</td>\n",
              "      <td>0.0</td>\n",
              "      <td>0.0</td>\n",
              "      <td>0.0</td>\n",
              "      <td>0.0</td>\n",
              "      <td>0.0</td>\n",
              "      <td>0.0</td>\n",
              "      <td>0.0</td>\n",
              "      <td>0.0</td>\n",
              "      <td>0.0</td>\n",
              "    </tr>\n",
              "    <tr>\n",
              "      <th>max</th>\n",
              "      <td>1.0</td>\n",
              "      <td>1.0</td>\n",
              "      <td>1.0</td>\n",
              "      <td>1.0</td>\n",
              "      <td>1.0</td>\n",
              "      <td>1.0</td>\n",
              "      <td>1.0</td>\n",
              "      <td>1.0</td>\n",
              "      <td>1.0</td>\n",
              "      <td>1.0</td>\n",
              "      <td>1.0</td>\n",
              "      <td>1.0</td>\n",
              "      <td>1.0</td>\n",
              "      <td>1.0</td>\n",
              "      <td>1.0</td>\n",
              "      <td>1.0</td>\n",
              "      <td>1.0</td>\n",
              "    </tr>\n",
              "  </tbody>\n",
              "</table>\n",
              "</div>\n",
              "      <button class=\"colab-df-convert\" onclick=\"convertToInteractive('df-5e0da037-e6a8-4d4f-883d-4ced6acf8376')\"\n",
              "              title=\"Convert this dataframe to an interactive table.\"\n",
              "              style=\"display:none;\">\n",
              "        \n",
              "  <svg xmlns=\"http://www.w3.org/2000/svg\" height=\"24px\"viewBox=\"0 0 24 24\"\n",
              "       width=\"24px\">\n",
              "    <path d=\"M0 0h24v24H0V0z\" fill=\"none\"/>\n",
              "    <path d=\"M18.56 5.44l.94 2.06.94-2.06 2.06-.94-2.06-.94-.94-2.06-.94 2.06-2.06.94zm-11 1L8.5 8.5l.94-2.06 2.06-.94-2.06-.94L8.5 2.5l-.94 2.06-2.06.94zm10 10l.94 2.06.94-2.06 2.06-.94-2.06-.94-.94-2.06-.94 2.06-2.06.94z\"/><path d=\"M17.41 7.96l-1.37-1.37c-.4-.4-.92-.59-1.43-.59-.52 0-1.04.2-1.43.59L10.3 9.45l-7.72 7.72c-.78.78-.78 2.05 0 2.83L4 21.41c.39.39.9.59 1.41.59.51 0 1.02-.2 1.41-.59l7.78-7.78 2.81-2.81c.8-.78.8-2.07 0-2.86zM5.41 20L4 18.59l7.72-7.72 1.47 1.35L5.41 20z\"/>\n",
              "  </svg>\n",
              "      </button>\n",
              "      \n",
              "  <style>\n",
              "    .colab-df-container {\n",
              "      display:flex;\n",
              "      flex-wrap:wrap;\n",
              "      gap: 12px;\n",
              "    }\n",
              "\n",
              "    .colab-df-convert {\n",
              "      background-color: #E8F0FE;\n",
              "      border: none;\n",
              "      border-radius: 50%;\n",
              "      cursor: pointer;\n",
              "      display: none;\n",
              "      fill: #1967D2;\n",
              "      height: 32px;\n",
              "      padding: 0 0 0 0;\n",
              "      width: 32px;\n",
              "    }\n",
              "\n",
              "    .colab-df-convert:hover {\n",
              "      background-color: #E2EBFA;\n",
              "      box-shadow: 0px 1px 2px rgba(60, 64, 67, 0.3), 0px 1px 3px 1px rgba(60, 64, 67, 0.15);\n",
              "      fill: #174EA6;\n",
              "    }\n",
              "\n",
              "    [theme=dark] .colab-df-convert {\n",
              "      background-color: #3B4455;\n",
              "      fill: #D2E3FC;\n",
              "    }\n",
              "\n",
              "    [theme=dark] .colab-df-convert:hover {\n",
              "      background-color: #434B5C;\n",
              "      box-shadow: 0px 1px 3px 1px rgba(0, 0, 0, 0.15);\n",
              "      filter: drop-shadow(0px 1px 2px rgba(0, 0, 0, 0.3));\n",
              "      fill: #FFFFFF;\n",
              "    }\n",
              "  </style>\n",
              "\n",
              "      <script>\n",
              "        const buttonEl =\n",
              "          document.querySelector('#df-5e0da037-e6a8-4d4f-883d-4ced6acf8376 button.colab-df-convert');\n",
              "        buttonEl.style.display =\n",
              "          google.colab.kernel.accessAllowed ? 'block' : 'none';\n",
              "\n",
              "        async function convertToInteractive(key) {\n",
              "          const element = document.querySelector('#df-5e0da037-e6a8-4d4f-883d-4ced6acf8376');\n",
              "          const dataTable =\n",
              "            await google.colab.kernel.invokeFunction('convertToInteractive',\n",
              "                                                     [key], {});\n",
              "          if (!dataTable) return;\n",
              "\n",
              "          const docLinkHtml = 'Like what you see? Visit the ' +\n",
              "            '<a target=\"_blank\" href=https://colab.research.google.com/notebooks/data_table.ipynb>data table notebook</a>'\n",
              "            + ' to learn more about interactive tables.';\n",
              "          element.innerHTML = '';\n",
              "          dataTable['output_type'] = 'display_data';\n",
              "          await google.colab.output.renderOutput(dataTable, element);\n",
              "          const docLink = document.createElement('div');\n",
              "          docLink.innerHTML = docLinkHtml;\n",
              "          element.appendChild(docLink);\n",
              "        }\n",
              "      </script>\n",
              "    </div>\n",
              "  </div>\n",
              "  "
            ]
          },
          "metadata": {},
          "execution_count": 33
        }
      ]
    },
    {
      "cell_type": "code",
      "source": [
        "train= train.drop(['Date'],axis=1)\n",
        "test = test.drop(['Date'], axis=1)"
      ],
      "metadata": {
        "id": "fTt9YiIdGDh5"
      },
      "execution_count": 34,
      "outputs": []
    },
    {
      "cell_type": "code",
      "source": [
        "X_train =train[['Store','Dept','IsHoliday','Size','Week','Type','Year']]\n",
        "X_test = test[['Store', 'Dept','IsHoliday', 'Size', 'Week', 'Type', 'Year']]"
      ],
      "metadata": {
        "id": "P6bmczFQGID1"
      },
      "execution_count": 35,
      "outputs": []
    },
    {
      "cell_type": "code",
      "source": [
        "print(X_train.columns)\n",
        "print(X_test.columns)"
      ],
      "metadata": {
        "colab": {
          "base_uri": "https://localhost:8080/"
        },
        "id": "fDmJPPHiGPIF",
        "outputId": "000becb3-19b9-430f-f295-db7ad487106b"
      },
      "execution_count": 36,
      "outputs": [
        {
          "output_type": "stream",
          "name": "stdout",
          "text": [
            "Index(['Store', 'Dept', 'IsHoliday', 'Size', 'Week', 'Type', 'Year'], dtype='object')\n",
            "Index(['Store', 'Dept', 'IsHoliday', 'Size', 'Week', 'Type', 'Year'], dtype='object')\n"
          ]
        }
      ]
    },
    {
      "cell_type": "code",
      "source": [
        "train_inputs, val_inputs, train_targets, val_targets = train_test_split(X_train, Y_train, test_size=0.25, random_state=42)"
      ],
      "metadata": {
        "id": "T7ltbxNBGSDG"
      },
      "execution_count": 37,
      "outputs": []
    },
    {
      "cell_type": "code",
      "source": [
        "from xgboost import XGBRegressor"
      ],
      "metadata": {
        "id": "ECquaYnlGYnH"
      },
      "execution_count": 38,
      "outputs": []
    },
    {
      "cell_type": "code",
      "source": [
        "model = XGBRegressor(random_state=42, n_jobs=-1, n_estimators=20, max_depth=4)"
      ],
      "metadata": {
        "id": "QyO7FpXaGsQ9"
      },
      "execution_count": 39,
      "outputs": []
    },
    {
      "cell_type": "code",
      "source": [
        "model.fit(train_inputs,train_targets)"
      ],
      "metadata": {
        "colab": {
          "base_uri": "https://localhost:8080/"
        },
        "id": "Eiwj0aU2GyRB",
        "outputId": "b6856f90-0e8e-46e0-d16a-30a1bb6a7d5c"
      },
      "execution_count": 40,
      "outputs": [
        {
          "output_type": "stream",
          "name": "stdout",
          "text": [
            "[12:20:39] WARNING: /workspace/src/objective/regression_obj.cu:152: reg:linear is now deprecated in favor of reg:squarederror.\n"
          ]
        },
        {
          "output_type": "execute_result",
          "data": {
            "text/plain": [
              "XGBRegressor(max_depth=4, n_estimators=20, n_jobs=-1, random_state=42)"
            ]
          },
          "metadata": {},
          "execution_count": 40
        }
      ]
    },
    {
      "cell_type": "code",
      "source": [
        "#Let's turn this into a dataframe and visualize the most important features\n",
        "importance_df = pd.DataFrame({\n",
        "    'feature': X_test.columns,\n",
        "    'importance':model.feature_importances_\n",
        "}).sort_values('importance', ascending=False)"
      ],
      "metadata": {
        "id": "04JAKxcHG_PZ"
      },
      "execution_count": 42,
      "outputs": []
    },
    {
      "cell_type": "code",
      "source": [
        "import seaborn as sns\n",
        "plt.figure(figsize=(10,6))\n",
        "plt.title('Feature Importance')\n",
        "sns.barplot(data=importance_df.head(10), x='importance', y='feature');"
      ],
      "metadata": {
        "colab": {
          "base_uri": "https://localhost:8080/",
          "height": 400
        },
        "id": "tPt88Fp1HLSD",
        "outputId": "76d330f6-2027-450d-ba78-f993b88b7733"
      },
      "execution_count": 43,
      "outputs": [
        {
          "output_type": "display_data",
          "data": {
            "text/plain": [
              "<Figure size 720x432 with 1 Axes>"
            ],
            "image/png": "[encoded data removed]"
          },
          "metadata": {
            "needs_background": "light"
          }
        }
      ]
    },
    {
      "cell_type": "code",
      "source": [
        "#Make and evaluate predictions\n",
        "x_pred = model.predict(train_inputs)\n",
        "x_pred"
      ],
      "metadata": {
        "colab": {
          "base_uri": "https://localhost:8080/"
        },
        "id": "Jum77NwNHOhQ",
        "outputId": "5398884c-c471-4b6d-e6ab-d79dd46766f4"
      },
      "execution_count": 44,
      "outputs": [
        {
          "output_type": "execute_result",
          "data": {
            "text/plain": [
              "array([ 4421.1025,  6982.323 ,  7777.918 , ..., 59104.188 , 14766.857 ,\n",
              "       18813.03  ], dtype=float32)"
            ]
          },
          "metadata": {},
          "execution_count": 44
        }
      ]
    },
    {
      "cell_type": "code",
      "source": [
        "#Mean squared Error\n",
        "def rmse(a, b):\n",
        "    return mean_squared_error(a, b, squared=False)"
      ],
      "metadata": {
        "id": "yQexxm1SHVzZ"
      },
      "execution_count": 45,
      "outputs": []
    },
    {
      "cell_type": "code",
      "source": [
        "rmse(x_pred,train_targets)"
      ],
      "metadata": {
        "colab": {
          "base_uri": "https://localhost:8080/"
        },
        "id": "_ltQrbB6HeJi",
        "outputId": "31fc993d-5726-4039-a6a6-6d9fbc1c3ba1"
      },
      "execution_count": 46,
      "outputs": [
        {
          "output_type": "execute_result",
          "data": {
            "text/plain": [
              "14512.11770940201"
            ]
          },
          "metadata": {},
          "execution_count": 46
        }
      ]
    },
    {
      "cell_type": "code",
      "source": [
        "x_preds=model.predict(X_test)\n",
        "x_preds"
      ],
      "metadata": {
        "colab": {
          "base_uri": "https://localhost:8080/"
        },
        "id": "qejLwGAEHj5W",
        "outputId": "93c4231e-14ae-432e-cdf3-13da8d5e8e68"
      },
      "execution_count": 47,
      "outputs": [
        {
          "output_type": "execute_result",
          "data": {
            "text/plain": [
              "array([10529.779, 10529.779, 10529.779, ..., 10529.779, 10529.779,\n",
              "       10529.779], dtype=float32)"
            ]
          },
          "metadata": {},
          "execution_count": 47
        }
      ]
    },
    {
      "cell_type": "code",
      "source": [
        "Final = X_test[['Store', 'Dept', 'Week']]\n",
        "test['Weekly_Sales']= x_preds"
      ],
      "metadata": {
        "id": "7aGTu5X6HmSC"
      },
      "execution_count": 48,
      "outputs": []
    },
    {
      "cell_type": "code",
      "source": [
        "#RandomForestRegressor\n",
        "def test_params(**params):\n",
        "    model = RandomForestRegressor(random_state=42, n_jobs=-1, **params).fit(train_inputs, train_targets)\n",
        "    train_rmse = mean_squared_error(model.predict(train_inputs), train_targets, squared=False)\n",
        "    val_rmse = mean_squared_error(model.predict(val_inputs), val_targets, squared=False)\n",
        "    return train_rmse, val_rmse"
      ],
      "metadata": {
        "id": "cSuXWB5iH3vv"
      },
      "execution_count": 51,
      "outputs": []
    },
    {
      "cell_type": "code",
      "source": [
        "test_params(n_estimators=20, max_depth=20)"
      ],
      "metadata": {
        "colab": {
          "base_uri": "https://localhost:8080/"
        },
        "id": "8D_M5JFsH-ZL",
        "outputId": "59fc9394-0a77-4718-dff7-6b962c6ea9a7"
      },
      "execution_count": 52,
      "outputs": [
        {
          "output_type": "execute_result",
          "data": {
            "text/plain": [
              "(1797.811385410645, 3434.4162052825995)"
            ]
          },
          "metadata": {},
          "execution_count": 52
        }
      ]
    },
    {
      "cell_type": "code",
      "source": [
        "test_params(n_estimators=50, max_depth=10,min_samples_split=3, min_samples_leaf=4, max_features=0.4)"
      ],
      "metadata": {
        "colab": {
          "base_uri": "https://localhost:8080/"
        },
        "id": "9GjXdGAeIGbA",
        "outputId": "13914873-0ed0-47c0-bc78-453487d209c9"
      },
      "execution_count": 53,
      "outputs": [
        {
          "output_type": "execute_result",
          "data": {
            "text/plain": [
              "(13806.977338643439, 14212.377040662092)"
            ]
          },
          "metadata": {},
          "execution_count": 53
        }
      ]
    },
    {
      "cell_type": "code",
      "source": [
        "#plot the graph between training error and validation error\n",
        "def test_param_and_plot(param_name, param_values):\n",
        "    train_errors, val_errors = [], [] \n",
        "    for value in param_values:\n",
        "        params = {param_name: value}\n",
        "        train_rmse, val_rmse = test_params(**params)\n",
        "        train_errors.append(train_rmse)\n",
        "        val_errors.append(val_rmse)\n",
        "    plt.figure(figsize=(10,6))\n",
        "    plt.title('Overfitting curve: ' + param_name)\n",
        "    plt.plot(param_values, train_errors, 'b-o')\n",
        "    plt.plot(param_values, val_errors, 'r-o')\n",
        "    plt.xlabel(param_name)\n",
        "    plt.ylabel('RMSE')\n",
        "    plt.legend(['Training', 'Validation'])"
      ],
      "metadata": {
        "id": "FEQ5a_HfILtA"
      },
      "execution_count": 54,
      "outputs": []
    },
    {
      "cell_type": "code",
      "source": [
        "#fitting the model with Hyperparameter Overfitting\n",
        "RF = RandomForestRegressor(n_estimators=58, max_depth=27, max_features=6, min_samples_split=3, min_samples_leaf=1)\n",
        "RF.fit(train_inputs,train_targets)"
      ],
      "metadata": {
        "colab": {
          "base_uri": "https://localhost:8080/"
        },
        "id": "8P5-Xp8MJhLD",
        "outputId": "5b53fb59-a088-4b38-bc6b-14b321b85f47"
      },
      "execution_count": 57,
      "outputs": [
        {
          "output_type": "execute_result",
          "data": {
            "text/plain": [
              "RandomForestRegressor(max_depth=27, max_features=6, min_samples_split=3,\n",
              "                      n_estimators=58)"
            ]
          },
          "metadata": {},
          "execution_count": 57
        }
      ]
    },
    {
      "cell_type": "code",
      "source": [
        "RF.score(train_inputs, train_targets)"
      ],
      "metadata": {
        "colab": {
          "base_uri": "https://localhost:8080/"
        },
        "id": "xp91GRWRJ0sI",
        "outputId": "00780395-cfc0-4c17-8413-191ac0013a5e"
      },
      "execution_count": 58,
      "outputs": [
        {
          "output_type": "execute_result",
          "data": {
            "text/plain": [
              "0.9952395541868558"
            ]
          },
          "metadata": {},
          "execution_count": 58
        }
      ]
    },
    {
      "cell_type": "code",
      "source": [
        "RF.score(val_inputs, val_targets)"
      ],
      "metadata": {
        "colab": {
          "base_uri": "https://localhost:8080/"
        },
        "id": "0TdlyOmiJ8iX",
        "outputId": "a3d8ac5f-3719-48be-bc68-27a8bb2006ab"
      },
      "execution_count": 59,
      "outputs": [
        {
          "output_type": "execute_result",
          "data": {
            "text/plain": [
              "0.9775479884584282"
            ]
          },
          "metadata": {},
          "execution_count": 59
        }
      ]
    },
    {
      "cell_type": "code",
      "source": [
        "#Make and evaluate predictions\n",
        "train_preds = RF.predict(train_inputs)\n",
        "train_preds"
      ],
      "metadata": {
        "colab": {
          "base_uri": "https://localhost:8080/"
        },
        "id": "8pFKYR1qKBw7",
        "outputId": "3acc2731-0263-4f58-cc31-15359d56ec79"
      },
      "execution_count": 60,
      "outputs": [
        {
          "output_type": "execute_result",
          "data": {
            "text/plain": [
              "array([7.26020115e+00, 1.75999633e+03, 4.95473106e+02, ...,\n",
              "       6.01831420e+04, 3.58675880e+04, 1.50730247e+04])"
            ]
          },
          "metadata": {},
          "execution_count": 60
        }
      ]
    },
    {
      "cell_type": "code",
      "source": [
        "#Evaluation\n",
        "rmse(train_targets,train_preds)"
      ],
      "metadata": {
        "colab": {
          "base_uri": "https://localhost:8080/"
        },
        "id": "u99cH-g3KJTo",
        "outputId": "a1bc8397-15ca-4ac3-f22e-9c35f8bab813"
      },
      "execution_count": 61,
      "outputs": [
        {
          "output_type": "execute_result",
          "data": {
            "text/plain": [
              "1563.8232053559818"
            ]
          },
          "metadata": {},
          "execution_count": 61
        }
      ]
    },
    {
      "cell_type": "code",
      "source": [
        "#Linear Regression\n",
        "#importing the LinearRegression algorithm\n",
        "from sklearn.linear_model import LinearRegression"
      ],
      "metadata": {
        "id": "W7ZPoEVuKWi0"
      },
      "execution_count": 62,
      "outputs": []
    },
    {
      "cell_type": "code",
      "source": [
        "#fitting the model\n",
        "lr=LinearRegression()\n",
        "lr.fit(train_inputs,train_targets)"
      ],
      "metadata": {
        "colab": {
          "base_uri": "https://localhost:8080/"
        },
        "id": "QIp61UHeKdmm",
        "outputId": "1f160ad0-c7cc-4140-a369-f8771e617efd"
      },
      "execution_count": 63,
      "outputs": [
        {
          "output_type": "execute_result",
          "data": {
            "text/plain": [
              "LinearRegression()"
            ]
          },
          "metadata": {},
          "execution_count": 63
        }
      ]
    },
    {
      "cell_type": "code",
      "source": [
        "Y_pred=lr.predict(train_inputs)\n",
        "Y_pred"
      ],
      "metadata": {
        "colab": {
          "base_uri": "https://localhost:8080/"
        },
        "id": "6F9-1szDKi2h",
        "outputId": "c7481c1d-553b-4d1f-cb2d-bf14a449bd5e"
      },
      "execution_count": 64,
      "outputs": [
        {
          "output_type": "execute_result",
          "data": {
            "text/plain": [
              "array([10511.43062391, 15878.69963478, 22838.38990493, ...,\n",
              "       26901.83662411, 12732.32849333, 20548.72973757])"
            ]
          },
          "metadata": {},
          "execution_count": 64
        }
      ]
    },
    {
      "cell_type": "code",
      "source": [
        "#Evaluation\n",
        "rmse(train_targets,Y_pred)"
      ],
      "metadata": {
        "colab": {
          "base_uri": "https://localhost:8080/"
        },
        "id": "yyjDdL6tKmgA",
        "outputId": "cb7503b8-253f-455b-b9b3-5e62241bbd1f"
      },
      "execution_count": 65,
      "outputs": [
        {
          "output_type": "execute_result",
          "data": {
            "text/plain": [
              "21674.949850452453"
            ]
          },
          "metadata": {},
          "execution_count": 65
        }
      ]
    }
  ],
  "metadata": {
    "colab": {
      "collapsed_sections": [],
      "name": "Sales Forecasting",
      "provenance": []
    },
    "kernelspec": {
      "display_name": "Python 3",
      "name": "python3"
    },
    "language_info": {
      "name": "python"
    }
  },
  "nbformat": 4,
  "nbformat_minor": 0
}